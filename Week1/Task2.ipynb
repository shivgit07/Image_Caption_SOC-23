{
  "nbformat": 4,
  "nbformat_minor": 0,
  "metadata": {
    "colab": {
      "provenance": []
    },
    "kernelspec": {
      "name": "python3",
      "display_name": "Python 3"
    },
    "language_info": {
      "name": "python"
    }
  },
  "cells": [
    {
      "cell_type": "code",
      "source": [
        "import pandas as pd \n",
        "import numpy as np\n",
        "import matplotlib.pyplot as plt\n",
        "\n",
        "from sklearn.preprocessing import LabelEncoder, OneHotEncoder             #E1: see at last \n",
        "from sklearn.impute import SimpleImputer                                  #E2: see at last \n",
        "\n",
        "from sklearn.neighbors import KNeighborsClassifier\n",
        "from sklearn.naive_bayes import GaussianNB\n",
        "from sklearn.tree import DecisionTreeClassifier\n",
        "\n",
        "from sklearn.metrics import mean_squared_error\n"
      ],
      "metadata": {
        "id": "3TTbESkNPbsk"
      },
      "execution_count": 26,
      "outputs": []
    },
    {
      "cell_type": "code",
      "source": [
        "from google.colab import drive\n",
        "drive.mount('/content/drive')"
      ],
      "metadata": {
        "colab": {
          "base_uri": "https://localhost:8080/"
        },
        "id": "PyBN8UM5cdQW",
        "outputId": "12fc90ce-d553-444f-a652-ec49de136549"
      },
      "execution_count": 27,
      "outputs": [
        {
          "output_type": "stream",
          "name": "stdout",
          "text": [
            "Drive already mounted at /content/drive; to attempt to forcibly remount, call drive.mount(\"/content/drive\", force_remount=True).\n"
          ]
        }
      ]
    },
    {
      "cell_type": "code",
      "source": [
        "# Loading the dataset\n",
        "tr_data = pd.read_csv('drive/MyDrive/train.csv')                          #train dataset\n",
        "ts_data = pd.read_csv('drive/MyDrive/test.csv')                           #test dataset\n",
        "yts_data = pd.read_csv('drive/MyDrive/gender_submission.csv')             #y_true\n",
        "   \n",
        "tr_data = tr_data.drop(['Name','Ticket','Cabin'], axis=1)               \n",
        "tr_data = tr_data.dropna()                                                # dropping rows corresponding to which no data given in \"Age\",\"Embarbed\" \n",
        "ts_data = ts_data.drop(['Name','Ticket','Cabin'], axis=1)\n",
        "\n",
        "x_train = tr_data.drop(['Survived'], axis=1)               \n",
        "y_train = tr_data['Survived']\n",
        "\n",
        "x_test = ts_data\n",
        "y_test = yts_data\n"
      ],
      "metadata": {
        "id": "VyHqN_c5Pb6I"
      },
      "execution_count": 28,
      "outputs": []
    },
    {
      "cell_type": "code",
      "source": [
        "# nan values in \"Embarked\" col were a headache (IGNORE BOTTOM 3 CELLS)"
      ],
      "metadata": {
        "id": "-Fi49RuynNSI"
      },
      "execution_count": 29,
      "outputs": []
    },
    {
      "cell_type": "code",
      "source": [
        "x_train['Embarked'].isnull().values.any()"
      ],
      "metadata": {
        "colab": {
          "base_uri": "https://localhost:8080/"
        },
        "id": "_7mXR5ErRf_E",
        "outputId": "b5a516b1-8463-4149-b500-b79494859767"
      },
      "execution_count": 30,
      "outputs": [
        {
          "output_type": "execute_result",
          "data": {
            "text/plain": [
              "False"
            ]
          },
          "metadata": {},
          "execution_count": 30
        }
      ]
    },
    {
      "cell_type": "code",
      "source": [
        "x_train.Embarked.unique()"
      ],
      "metadata": {
        "colab": {
          "base_uri": "https://localhost:8080/"
        },
        "id": "Wvdz02ttRY9H",
        "outputId": "b7b7e1b3-214f-41bf-f58d-228466600c7d"
      },
      "execution_count": 31,
      "outputs": [
        {
          "output_type": "execute_result",
          "data": {
            "text/plain": [
              "array(['S', 'C', 'Q'], dtype=object)"
            ]
          },
          "metadata": {},
          "execution_count": 31
        }
      ]
    },
    {
      "cell_type": "code",
      "source": [
        "print(x_train)"
      ],
      "metadata": {
        "colab": {
          "base_uri": "https://localhost:8080/"
        },
        "id": "HVBqT2LnRXp2",
        "outputId": "3a78a6a9-eaf5-4ab4-8d88-5f6339cb4fd3"
      },
      "execution_count": 32,
      "outputs": [
        {
          "output_type": "stream",
          "name": "stdout",
          "text": [
            "     PassengerId  Pclass     Sex   Age  SibSp  Parch     Fare Embarked\n",
            "0              1       3    male  22.0      1      0   7.2500        S\n",
            "1              2       1  female  38.0      1      0  71.2833        C\n",
            "2              3       3  female  26.0      0      0   7.9250        S\n",
            "3              4       1  female  35.0      1      0  53.1000        S\n",
            "4              5       3    male  35.0      0      0   8.0500        S\n",
            "..           ...     ...     ...   ...    ...    ...      ...      ...\n",
            "885          886       3  female  39.0      0      5  29.1250        Q\n",
            "886          887       2    male  27.0      0      0  13.0000        S\n",
            "887          888       1  female  19.0      0      0  30.0000        S\n",
            "889          890       1    male  26.0      0      0  30.0000        C\n",
            "890          891       3    male  32.0      0      0   7.7500        Q\n",
            "\n",
            "[712 rows x 8 columns]\n"
          ]
        }
      ]
    },
    {
      "cell_type": "code",
      "source": [
        "### ONE HOT ENCODING AND IMPUTING WAS DONE BEFORE DROPING ALL UNNECESSARY COLS SUCH AS NAME TICKET CABIN\n",
        "### \"CABIN\" COULD HAVE BEEN AN IMP FEATURE BUT DUE TO INAPPROPRIATE DATA GIVEN FOR IT WAS DROPPED"
      ],
      "metadata": {
        "id": "xfDNh7_Vnv58"
      },
      "execution_count": 33,
      "outputs": []
    },
    {
      "cell_type": "code",
      "source": [
        "# Preprocessing the data\n",
        "    ## preprcs is done as the given dataset has some string values which the classifier cannot digest\n",
        "    ## One-hot encoding used\n",
        "categorical_cols = x_train.select_dtypes(include='object').columns\n",
        "label_encoders = {}\n",
        "for col in categorical_cols:\n",
        "    label_encoders[col] = LabelEncoder()\n",
        "    x_train[col] = label_encoders[col].fit_transform(x_train[col])\n",
        "\n",
        "# Imputing missing values using mean strategy                                    \n",
        "imputer = SimpleImputer(strategy='mean')\n",
        "x_train = pd.DataFrame(imputer.fit_transform(x_train), columns=x_train.columns)\n",
        "\n",
        "onehot_encoder = OneHotEncoder(sparse=False, handle_unknown='ignore')\n",
        "X_encoded = pd.DataFrame(onehot_encoder.fit_transform(x_train[categorical_cols]))\n",
        "X_encoded.columns = onehot_encoder.get_feature_names_out(categorical_cols)\n",
        "x_train = pd.concat([x_train.drop(categorical_cols, axis=1), X_encoded], axis=1)\n",
        "\n",
        "\n",
        "categorical_cols = x_test.select_dtypes(include='object').columns\n",
        "label_encoders = {}\n",
        "for col in categorical_cols:\n",
        "    label_encoders[col] = LabelEncoder()\n",
        "    x_test[col] = label_encoders[col].fit_transform(x_test[col])\n",
        "\n",
        "# Imputing\n",
        "x_test = pd.DataFrame(imputer.fit_transform(x_test), columns=x_test.columns)\n",
        "\n",
        "onehot_encoder = OneHotEncoder(sparse=False, handle_unknown='ignore')\n",
        "X_encoded = pd.DataFrame(onehot_encoder.fit_transform(x_test[categorical_cols]))\n",
        "X_encoded.columns = onehot_encoder.get_feature_names_out(categorical_cols)\n",
        "x_test = pd.concat([x_test.drop(categorical_cols, axis=1), X_encoded], axis=1)\n"
      ],
      "metadata": {
        "colab": {
          "base_uri": "https://localhost:8080/"
        },
        "id": "_IJUYod0Keit",
        "outputId": "1e7d5997-04d9-4405-a4ac-47d6e3b6da1d"
      },
      "execution_count": 34,
      "outputs": [
        {
          "output_type": "stream",
          "name": "stderr",
          "text": [
            "/usr/local/lib/python3.10/dist-packages/sklearn/preprocessing/_encoders.py:868: FutureWarning: `sparse` was renamed to `sparse_output` in version 1.2 and will be removed in 1.4. `sparse_output` is ignored unless you leave `sparse` to its default value.\n",
            "  warnings.warn(\n",
            "/usr/local/lib/python3.10/dist-packages/sklearn/preprocessing/_encoders.py:868: FutureWarning: `sparse` was renamed to `sparse_output` in version 1.2 and will be removed in 1.4. `sparse_output` is ignored unless you leave `sparse` to its default value.\n",
            "  warnings.warn(\n"
          ]
        }
      ]
    },
    {
      "cell_type": "code",
      "source": [
        "print(x_train)"
      ],
      "metadata": {
        "colab": {
          "base_uri": "https://localhost:8080/"
        },
        "id": "MedJM_tD1pOR",
        "outputId": "9ee852c1-7ea5-4a12-b377-488e261ae912"
      },
      "execution_count": 35,
      "outputs": [
        {
          "output_type": "stream",
          "name": "stdout",
          "text": [
            "     PassengerId  Pclass   Age  SibSp  Parch     Fare  Sex_0.0  Sex_1.0  \\\n",
            "0            1.0     3.0  22.0    1.0    0.0   7.2500      0.0      1.0   \n",
            "1            2.0     1.0  38.0    1.0    0.0  71.2833      1.0      0.0   \n",
            "2            3.0     3.0  26.0    0.0    0.0   7.9250      1.0      0.0   \n",
            "3            4.0     1.0  35.0    1.0    0.0  53.1000      1.0      0.0   \n",
            "4            5.0     3.0  35.0    0.0    0.0   8.0500      0.0      1.0   \n",
            "..           ...     ...   ...    ...    ...      ...      ...      ...   \n",
            "707        886.0     3.0  39.0    0.0    5.0  29.1250      1.0      0.0   \n",
            "708        887.0     2.0  27.0    0.0    0.0  13.0000      0.0      1.0   \n",
            "709        888.0     1.0  19.0    0.0    0.0  30.0000      1.0      0.0   \n",
            "710        890.0     1.0  26.0    0.0    0.0  30.0000      0.0      1.0   \n",
            "711        891.0     3.0  32.0    0.0    0.0   7.7500      0.0      1.0   \n",
            "\n",
            "     Embarked_0.0  Embarked_1.0  Embarked_2.0  \n",
            "0             0.0           0.0           1.0  \n",
            "1             1.0           0.0           0.0  \n",
            "2             0.0           0.0           1.0  \n",
            "3             0.0           0.0           1.0  \n",
            "4             0.0           0.0           1.0  \n",
            "..            ...           ...           ...  \n",
            "707           0.0           1.0           0.0  \n",
            "708           0.0           0.0           1.0  \n",
            "709           0.0           0.0           1.0  \n",
            "710           1.0           0.0           0.0  \n",
            "711           0.0           1.0           0.0  \n",
            "\n",
            "[712 rows x 11 columns]\n"
          ]
        }
      ]
    },
    {
      "cell_type": "code",
      "source": [
        "print(x_test)"
      ],
      "metadata": {
        "colab": {
          "base_uri": "https://localhost:8080/"
        },
        "id": "NBbB6GJb5-VP",
        "outputId": "2972a1ca-d8ec-4ea1-ab4f-dc81f1f9b84a"
      },
      "execution_count": 36,
      "outputs": [
        {
          "output_type": "stream",
          "name": "stdout",
          "text": [
            "     PassengerId  Pclass       Age  SibSp  Parch      Fare  Sex_0.0  Sex_1.0  \\\n",
            "0          892.0     3.0  34.50000    0.0    0.0    7.8292      0.0      1.0   \n",
            "1          893.0     3.0  47.00000    1.0    0.0    7.0000      1.0      0.0   \n",
            "2          894.0     2.0  62.00000    0.0    0.0    9.6875      0.0      1.0   \n",
            "3          895.0     3.0  27.00000    0.0    0.0    8.6625      0.0      1.0   \n",
            "4          896.0     3.0  22.00000    1.0    1.0   12.2875      1.0      0.0   \n",
            "..           ...     ...       ...    ...    ...       ...      ...      ...   \n",
            "413       1305.0     3.0  30.27259    0.0    0.0    8.0500      0.0      1.0   \n",
            "414       1306.0     1.0  39.00000    0.0    0.0  108.9000      1.0      0.0   \n",
            "415       1307.0     3.0  38.50000    0.0    0.0    7.2500      0.0      1.0   \n",
            "416       1308.0     3.0  30.27259    0.0    0.0    8.0500      0.0      1.0   \n",
            "417       1309.0     3.0  30.27259    1.0    1.0   22.3583      0.0      1.0   \n",
            "\n",
            "     Embarked_0.0  Embarked_1.0  Embarked_2.0  \n",
            "0             0.0           1.0           0.0  \n",
            "1             0.0           0.0           1.0  \n",
            "2             0.0           1.0           0.0  \n",
            "3             0.0           0.0           1.0  \n",
            "4             0.0           0.0           1.0  \n",
            "..            ...           ...           ...  \n",
            "413           0.0           0.0           1.0  \n",
            "414           1.0           0.0           0.0  \n",
            "415           0.0           0.0           1.0  \n",
            "416           0.0           0.0           1.0  \n",
            "417           1.0           0.0           0.0  \n",
            "\n",
            "[418 rows x 11 columns]\n"
          ]
        }
      ]
    },
    {
      "cell_type": "code",
      "source": [
        "print(y_train)"
      ],
      "metadata": {
        "colab": {
          "base_uri": "https://localhost:8080/"
        },
        "id": "fnIN1ryP5-DL",
        "outputId": "c4d01d3c-06ef-485c-d8b2-4aaf7c637d2c"
      },
      "execution_count": 37,
      "outputs": [
        {
          "output_type": "stream",
          "name": "stdout",
          "text": [
            "0      0\n",
            "1      1\n",
            "2      1\n",
            "3      1\n",
            "4      0\n",
            "      ..\n",
            "885    0\n",
            "886    0\n",
            "887    1\n",
            "889    1\n",
            "890    0\n",
            "Name: Survived, Length: 712, dtype: int64\n"
          ]
        }
      ]
    },
    {
      "cell_type": "code",
      "source": [
        "knn = KNeighborsClassifier()\n",
        "knn.fit(x_train, y_train)"
      ],
      "metadata": {
        "colab": {
          "base_uri": "https://localhost:8080/",
          "height": 74
        },
        "id": "pXWXjrx2PbqB",
        "outputId": "c7cd4a92-b400-421d-8134-fa64d011c260"
      },
      "execution_count": 38,
      "outputs": [
        {
          "output_type": "execute_result",
          "data": {
            "text/plain": [
              "KNeighborsClassifier()"
            ],
            "text/html": [
              "<style>#sk-container-id-2 {color: black;background-color: white;}#sk-container-id-2 pre{padding: 0;}#sk-container-id-2 div.sk-toggleable {background-color: white;}#sk-container-id-2 label.sk-toggleable__label {cursor: pointer;display: block;width: 100%;margin-bottom: 0;padding: 0.3em;box-sizing: border-box;text-align: center;}#sk-container-id-2 label.sk-toggleable__label-arrow:before {content: \"▸\";float: left;margin-right: 0.25em;color: #696969;}#sk-container-id-2 label.sk-toggleable__label-arrow:hover:before {color: black;}#sk-container-id-2 div.sk-estimator:hover label.sk-toggleable__label-arrow:before {color: black;}#sk-container-id-2 div.sk-toggleable__content {max-height: 0;max-width: 0;overflow: hidden;text-align: left;background-color: #f0f8ff;}#sk-container-id-2 div.sk-toggleable__content pre {margin: 0.2em;color: black;border-radius: 0.25em;background-color: #f0f8ff;}#sk-container-id-2 input.sk-toggleable__control:checked~div.sk-toggleable__content {max-height: 200px;max-width: 100%;overflow: auto;}#sk-container-id-2 input.sk-toggleable__control:checked~label.sk-toggleable__label-arrow:before {content: \"▾\";}#sk-container-id-2 div.sk-estimator input.sk-toggleable__control:checked~label.sk-toggleable__label {background-color: #d4ebff;}#sk-container-id-2 div.sk-label input.sk-toggleable__control:checked~label.sk-toggleable__label {background-color: #d4ebff;}#sk-container-id-2 input.sk-hidden--visually {border: 0;clip: rect(1px 1px 1px 1px);clip: rect(1px, 1px, 1px, 1px);height: 1px;margin: -1px;overflow: hidden;padding: 0;position: absolute;width: 1px;}#sk-container-id-2 div.sk-estimator {font-family: monospace;background-color: #f0f8ff;border: 1px dotted black;border-radius: 0.25em;box-sizing: border-box;margin-bottom: 0.5em;}#sk-container-id-2 div.sk-estimator:hover {background-color: #d4ebff;}#sk-container-id-2 div.sk-parallel-item::after {content: \"\";width: 100%;border-bottom: 1px solid gray;flex-grow: 1;}#sk-container-id-2 div.sk-label:hover label.sk-toggleable__label {background-color: #d4ebff;}#sk-container-id-2 div.sk-serial::before {content: \"\";position: absolute;border-left: 1px solid gray;box-sizing: border-box;top: 0;bottom: 0;left: 50%;z-index: 0;}#sk-container-id-2 div.sk-serial {display: flex;flex-direction: column;align-items: center;background-color: white;padding-right: 0.2em;padding-left: 0.2em;position: relative;}#sk-container-id-2 div.sk-item {position: relative;z-index: 1;}#sk-container-id-2 div.sk-parallel {display: flex;align-items: stretch;justify-content: center;background-color: white;position: relative;}#sk-container-id-2 div.sk-item::before, #sk-container-id-2 div.sk-parallel-item::before {content: \"\";position: absolute;border-left: 1px solid gray;box-sizing: border-box;top: 0;bottom: 0;left: 50%;z-index: -1;}#sk-container-id-2 div.sk-parallel-item {display: flex;flex-direction: column;z-index: 1;position: relative;background-color: white;}#sk-container-id-2 div.sk-parallel-item:first-child::after {align-self: flex-end;width: 50%;}#sk-container-id-2 div.sk-parallel-item:last-child::after {align-self: flex-start;width: 50%;}#sk-container-id-2 div.sk-parallel-item:only-child::after {width: 0;}#sk-container-id-2 div.sk-dashed-wrapped {border: 1px dashed gray;margin: 0 0.4em 0.5em 0.4em;box-sizing: border-box;padding-bottom: 0.4em;background-color: white;}#sk-container-id-2 div.sk-label label {font-family: monospace;font-weight: bold;display: inline-block;line-height: 1.2em;}#sk-container-id-2 div.sk-label-container {text-align: center;}#sk-container-id-2 div.sk-container {/* jupyter's `normalize.less` sets `[hidden] { display: none; }` but bootstrap.min.css set `[hidden] { display: none !important; }` so we also need the `!important` here to be able to override the default hidden behavior on the sphinx rendered scikit-learn.org. See: https://github.com/scikit-learn/scikit-learn/issues/21755 */display: inline-block !important;position: relative;}#sk-container-id-2 div.sk-text-repr-fallback {display: none;}</style><div id=\"sk-container-id-2\" class=\"sk-top-container\"><div class=\"sk-text-repr-fallback\"><pre>KNeighborsClassifier()</pre><b>In a Jupyter environment, please rerun this cell to show the HTML representation or trust the notebook. <br />On GitHub, the HTML representation is unable to render, please try loading this page with nbviewer.org.</b></div><div class=\"sk-container\" hidden><div class=\"sk-item\"><div class=\"sk-estimator sk-toggleable\"><input class=\"sk-toggleable__control sk-hidden--visually\" id=\"sk-estimator-id-2\" type=\"checkbox\" checked><label for=\"sk-estimator-id-2\" class=\"sk-toggleable__label sk-toggleable__label-arrow\">KNeighborsClassifier</label><div class=\"sk-toggleable__content\"><pre>KNeighborsClassifier()</pre></div></div></div></div></div>"
            ]
          },
          "metadata": {},
          "execution_count": 38
        }
      ]
    },
    {
      "cell_type": "code",
      "source": [
        "y_pred = knn.predict(x_test)\n",
        "print(y_pred)"
      ],
      "metadata": {
        "colab": {
          "base_uri": "https://localhost:8080/"
        },
        "id": "U5yrp646TMDL",
        "outputId": "18d51833-ef65-47a1-8d6e-d08467cbc737"
      },
      "execution_count": 39,
      "outputs": [
        {
          "output_type": "stream",
          "name": "stdout",
          "text": [
            "[0 0 0 0 0 0 0 1 0 1 0 0 1 0 1 1 0 0 0 0 1 0 0 1 1 0 1 0 0 0 0 0 0 0 1 0 0\n",
            " 0 0 1 0 0 0 0 1 0 0 0 1 0 1 0 0 1 0 0 0 0 0 1 0 0 0 0 1 0 0 0 0 1 0 0 0 0\n",
            " 1 1 0 0 0 0 0 1 0 0 0 0 0 0 0 0 0 0 0 0 0 0 1 0 0 0 0 0 0 0 0 0 0 0 0 0 0\n",
            " 0 0 0 1 0 0 0 1 0 0 0 0 0 0 0 0 0 0 0 0 0 0 0 0 0 0 0 0 0 0 1 1 0 0 0 0 0\n",
            " 0 0 1 0 0 0 0 0 1 0 0 0 0 0 0 0 0 0 0 0 0 0 0 0 0 0 0 0 0 0 0 1 0 1 0 0 1\n",
            " 0 0 0 0 0 0 0 0 0 0 0 1 0 0 0 0 0 1 0 0 0 0 0 0 0 0 0 0 0 0 0 0 1 1 0 0 0\n",
            " 0 0 0 0 0 0 0 0 0 0 0 0 0 0 1 0 0 1 0 0 1 0 0 0 0 0 0 0 0 0 1 0 0 0 0 0 0\n",
            " 0 0 0 0 0 0 0 0 0 0 0 1 0 1 0 0 0 0 0 0 0 0 0 0 0 0 0 0 0 0 0 0 0 0 1 0 0\n",
            " 0 0 0 0 0 0 0 0 0 0 1 0 1 0 0 0 0 0 1 0 1 0 0 0 0 0 0 0 1 0 0 0 0 0 0 0 0\n",
            " 0 0 0 0 0 0 0 0 0 0 1 0 0 0 0 0 0 0 0 0 0 0 0 0 0 0 0 0 0 0 0 0 0 0 0 0 0\n",
            " 0 1 0 0 1 1 0 0 0 0 0 0 0 0 0 0 0 0 0 0 0 0 0 0 0 0 0 0 0 0 1 0 0 0 0 0 0\n",
            " 1 0 0 0 0 0 0 1 0 0 0]\n"
          ]
        }
      ]
    },
    {
      "cell_type": "code",
      "source": [
        "knn_loss = mean_squared_error(y_test['Survived'],y_pred )"
      ],
      "metadata": {
        "id": "3PipcDgXMRbL"
      },
      "execution_count": 40,
      "outputs": []
    },
    {
      "cell_type": "code",
      "source": [
        "y_acc = knn.score(x_test,y_test['Survived'] )\n",
        "print(\"KNN accuracy:\",y_acc)"
      ],
      "metadata": {
        "colab": {
          "base_uri": "https://localhost:8080/"
        },
        "id": "FkV2pZC0Ts5x",
        "outputId": "f8ef826b-3f5c-4d96-afb1-e20aba8cf6f3"
      },
      "execution_count": 41,
      "outputs": [
        {
          "output_type": "stream",
          "name": "stdout",
          "text": [
            "KNN accuracy: 0.645933014354067\n"
          ]
        }
      ]
    },
    {
      "cell_type": "code",
      "source": [
        "nb = GaussianNB()\n",
        "nb.fit(x_train, y_train)\n",
        "nb_loss = mean_squared_error(y_test['Survived'], nb.predict(x_test))"
      ],
      "metadata": {
        "id": "vj_9uZ5sMLT2"
      },
      "execution_count": 42,
      "outputs": []
    },
    {
      "cell_type": "code",
      "source": [
        "y_acc = nb.score(x_test,y_test['Survived'] )\n",
        "print(\"Naive Bayes Accuracy:\",y_acc)"
      ],
      "metadata": {
        "colab": {
          "base_uri": "https://localhost:8080/"
        },
        "id": "fbYbcCVuT8Wo",
        "outputId": "257c1002-8815-4df2-aa9a-bdd6348b030e"
      },
      "execution_count": 43,
      "outputs": [
        {
          "output_type": "stream",
          "name": "stdout",
          "text": [
            "Naive Bayes Accuracy: 0.861244019138756\n"
          ]
        }
      ]
    },
    {
      "cell_type": "code",
      "source": [
        "dt = DecisionTreeClassifier()\n",
        "dt.fit(x_train, y_train)\n",
        "dt_loss = mean_squared_error(y_test['Survived'], dt.predict(x_test))"
      ],
      "metadata": {
        "id": "lkN3Kz56MLNQ"
      },
      "execution_count": 44,
      "outputs": []
    },
    {
      "cell_type": "code",
      "source": [
        "y_acc = dt.score(x_test,y_test['Survived'] )\n",
        "print(\"Decision Tree Accuracy:\",y_acc)"
      ],
      "metadata": {
        "colab": {
          "base_uri": "https://localhost:8080/"
        },
        "id": "U--BAywGUGBQ",
        "outputId": "77dc31a4-d35d-416e-928d-162a878500ec"
      },
      "execution_count": 45,
      "outputs": [
        {
          "output_type": "stream",
          "name": "stdout",
          "text": [
            "Decision Tree Accuracy: 0.7511961722488039\n"
          ]
        }
      ]
    },
    {
      "cell_type": "code",
      "execution_count": 46,
      "metadata": {
        "id": "4-LnWrEFPL-F",
        "colab": {
          "base_uri": "https://localhost:8080/"
        },
        "outputId": "70c735d3-29a2-408e-8187-df77da034f35"
      },
      "outputs": [
        {
          "output_type": "stream",
          "name": "stdout",
          "text": [
            "KNN Loss: 0.35406698564593303\n",
            "Naive Bayes Loss: 0.13875598086124402\n",
            "Decision Tree Loss: 0.24880382775119617\n"
          ]
        }
      ],
      "source": [
        "# Printing the losses for each classifier\n",
        "print(\"KNN Loss:\", knn_loss)\n",
        "print(\"Naive Bayes Loss:\", nb_loss)\n",
        "print(\"Decision Tree Loss:\", dt_loss)"
      ]
    },
    {
      "cell_type": "markdown",
      "source": [
        "# Some errors with soln"
      ],
      "metadata": {
        "id": "7ga9Nz9L2jnK"
      }
    },
    {
      "cell_type": "markdown",
      "source": [
        "***E1***"
      ],
      "metadata": {
        "id": "24_vHI_K3UHE"
      }
    },
    {
      "cell_type": "code",
      "source": [
        "#------- preprocessing not done -----------------\n",
        "\n",
        "# strings were present such as name and all in the dataset which the classifier could not understand \n",
        "# so converting then to 0, 1 values (mainly all 0)"
      ],
      "metadata": {
        "id": "GU0v0-Od3StV"
      },
      "execution_count": 47,
      "outputs": []
    },
    {
      "cell_type": "markdown",
      "source": [
        "***E2***"
      ],
      "metadata": {
        "id": "QnE6-wIe3YPx"
      }
    },
    {
      "cell_type": "code",
      "source": [
        "#------- NaN: after preprocessing data ------------\n",
        "\n",
        "#       1 knn = KNeighborsClassifier()\n",
        "# ----> 2 knn.fit(x_train, y_train)\n",
        "#       3 knn_loss = mean_squared_error(y_test, knn.predict(x_test))\n",
        "\n",
        "# ValueError: Input X contains NaN.\n",
        "# KNeighborsClassifier does not accept missing values encoded as NaN natively. For supervised learning, you might want to consider sklearn.ensemble.HistGradientBoostingClassifier \n",
        "# and Regressor which accept missing values encoded as NaNs natively. Alternatively, it is possible to preprocess the data,\n",
        "#  for instance by using an imputer transformer in a pipeline or drop samples with missing values."
      ],
      "metadata": {
        "id": "-pleEr5A2jWn"
      },
      "execution_count": 48,
      "outputs": []
    }
  ]
}